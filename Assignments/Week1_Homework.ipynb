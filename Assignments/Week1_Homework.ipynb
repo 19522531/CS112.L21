{
 "cells": [
  {
   "attachments": {},
   "cell_type": "markdown",
   "metadata": {},
   "source": [
    "#  Bài 1: Tảo Biển \n",
    "\n",
    "*<strong> Abstraction </strong>: \n",
    "    - Nhập vào hai số nguyên n, k với k là số phần tử mà n tạo ra thỏa mãn điều kiện ứng với mỗi giá trị thứ k sẽ bằng tổng các tích của các phần tử trước nhân với hiệu chỉ số tính từ k đến các phần tử đó và giá trị của phần tử đầu tiên chính là n; sau đó tính tổng tất cả các giá trị của các phần tử rồi in ra màn hình.\n",
    "* <strong> Pattern Recognition </strong>:\n",
    "    Dưới sự mô tả của bài toán, ta có:\n",
    "    - Ngày 1: sinh ra 3x1 cá thể mức 1 => 3 cá thể sinh ra \n",
    "    - Ngày 2: sinh ra 3x2 cá thể mức 1, 3x1 cá thể mức 1 => 9 cá thể sinh ra\n",
    "    - Ngày 3: sinh ra 3x3 cá thể mức 1, 3x2 cá thể mức 1, 9x1 cá thể => 24 cá thể sinh ra\n",
    "    Nếu thể hiện dưới mảng ta sẽ thấy số cá thể sinh ra từng ngày:\n",
    "\n",
    "|ngày   |1|2|3 |\n",
    "|----------|:---:|:---:|:---:|\n",
    "|SL tăng|3|9|24|\n",
    "\n",
    "    - Số cá thể sinh ra trong ngày thứ k sẽ bằng:\n",
    " a[i] = $\\sum_{n = 0}^{k-1} a[i]x(k-i)$\n",
    "    - Tuy nhiên nhìn vào tổng thể từng ngày ta nhận thấy sự khác biệt \n",
    "    - Tổng số cá thể ngày thứ k = tổng số cá thể ngày (k-1)x2  + số cá thể tăng thêm trong ngày (k-1)\n",
    "    \n",
    "|Ngày|0|1|2 |3 |\n",
    "|--------|:---:|:---:|:---:|:---:|\n",
    "|Tổng|3|6|15|39|\n",
    "    \n",
    " - Như vậy, ta sẽ có 1 vòng lặp từ bắt đầu từ chỉ số 1, và biến s (s = 0) tính số cá thể sinh ra, biến a = n là số cá thể ngày 0 và biến b là tổng tất cả các cá thể theo công thức: b=2*a+s\n",
    "* <strong> Kĩ thuật được áp dụng </strong>: Kĩ thuật vòng lặp với điều kiện ở đầu\n",
    "* <strong> Lưu đồ thuật toán </strong>:\n",
    "![datagram1](https://imagizer.imageshack.com/img923/484/EzO8wg.png)\n",
    "* <strong> Độ phức tạp thuật toán </strong>: O(n)\n"
   ]
  },
  {
   "cell_type": "code",
   "execution_count": null,
   "metadata": {},
   "outputs": [],
   "source": [
    "import io, os, sys\n",
    "input = sys.stdin.readline\n",
    "n, k = map(int, input().split())\n",
    "tong =0\n",
    "a = n\n",
    "for i in range(1,k+1):\n",
    "    b = a*2 +tong\n",
    "    tong += a\n",
    "    a = b\n",
    "sys.stdout.write(str(b%1000000007))"
   ]
  },
  {
   "attachments": {},
   "cell_type": "markdown",
   "metadata": {},
   "source": [
    "# Bài 2: Trạm Thu Phí\n",
    "* <strong> Abstraction: </strong>\n",
    "- Nhập vào số lượng phần tử của một mảng và mảng đó trên một dòng , tìm khoảng trên mảng đó sao cho tổng lớn nhất.\n",
    "* <strong> Kĩ thuật được áp dụng: </strong> Duyệt mảng, gắn biến tạm\n",
    "- Đầu tiên ta gán s = 0 để tính tổng, max = arr[0]\n",
    "- for (i ->n), s = max (arr [i], arr[i] + s); nếu s > max thì max = s. Tìm được chỉ số cuối của khoảng\n",
    "- Tiếp ta lại duyệt ngược từ vị trí cuối đã tìm được và thực hiện trừ ngược các phần tử trong mảng cho đến khi arr [i-1] = 0 hay arr [i-2] = 0 thì ta sẽ tìm được chỉ số đầu \n",
    "* <strong> Lưu đồ thuật toán: </strong>\n",
    "![datagram2](https://imagizer.imageshack.com/img922/2228/1uaQ9i.png)\n",
    "* <strong> Độ phức tạp: </strong> O(n)"
   ]
  },
  {
   "cell_type": "code",
   "execution_count": null,
   "metadata": {},
   "outputs": [],
   "source": [
    "n = int(input())\n",
    "lst = list(map(int, input().split()))[:n]\n",
    "max_lst = lst[0]\n",
    "sum = 0\n",
    "for i in range(n):\n",
    "    sum = max(lst[i], sum + lst[i])\n",
    "    if (max_lst < sum ):\n",
    "        max_lst = sum\n",
    "        b = i\n",
    "temp = max_lst\n",
    "for i in range(-(b),1) :\n",
    "    temp -= lst[abs(i)]\n",
    "    if (temp == 0):\n",
    "        a = abs(i)\n",
    "        while (lst[a-1] == 0 or (lst[a-2] + lst[a - 1] == 0)):\n",
    "            if lst[a-1] == 0 :\n",
    "                a -= 1\n",
    "            if lst[a-2] + lst[a - 1] == 0 :\n",
    "                a -= 2\n",
    "        break\n",
    "print (str(a+1)+\" \"+str(b+1)+\" \"+str(max_lst))"
   ]
  }
 ],
 "metadata": {
  "kernelspec": {
   "display_name": "Python 3",
   "language": "python",
   "name": "python3"
  },
  "language_info": {
   "codemirror_mode": {
    "name": "ipython",
    "version": 3
   },
   "file_extension": ".py",
   "mimetype": "text/x-python",
   "name": "python",
   "nbconvert_exporter": "python",
   "pygments_lexer": "ipython3",
   "version": "3.8.5"
  }
 },
 "nbformat": 4,
 "nbformat_minor": 4
}
