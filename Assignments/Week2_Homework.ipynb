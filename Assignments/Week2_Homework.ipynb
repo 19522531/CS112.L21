{
 "cells": [
  {
   "cell_type": "markdown",
   "metadata": {},
   "source": [
    "# H_Index\n",
    "* Abstraction:\n",
    "    - Tìm k là số lượng phần tử trong tập n số (k<n) sao cho mỗi phần tử đều lớn hơn k\n",
    "* Pattern recognization:\n",
    "    - Kỹ thuật áp dụng: Duyệt mảng,sắp xếp mảng\n",
    "    - Đặc điểm nhận dạng: Chuỗi số, tìm giá trị lớn nhất\n",
    "* Algorithm designed:\n",
    "    - Sắp xếp chuỗi số theo thứ tự tăng dần\n",
    "    - Duyệt mảng arr:\n",
    "        - Với phần tử thứ i\n",
    "            - Tính giá trị của p = n-i (số phần tử còn lại)\n",
    "            - So sánh phần tử thứ i arr[i] với số phần tử còn lại p\n",
    "                - Nếu nhỏ hơn p, quay lại duyệt mảng.\n",
    "                - Nếu lớn hơn hoặc bằng p, xuất ra p\n",
    "* Đánh giá độ phức tạp thuật toán: O(nLogn (của hàm sort) + n (hàm solved))= O(nLogn)  "
   ]
  },
  {
   "cell_type": "code",
   "execution_count": null,
   "metadata": {},
   "outputs": [],
   "source": [
    "def solved(n,papers):\n",
    "    for i in range(0, n):\n",
    "        p= n-i\n",
    "        if papers[i] >= p:\n",
    "            return p\n",
    "    return 0\n",
    "\n",
    "n= int(input())\n",
    "papers= [int(x) for x in input().split()]\n",
    "papers.sort()\n",
    "print(solved(n,papers))"
   ]
  },
  {
   "cell_type": "markdown",
   "metadata": {},
   "source": [
    "# MAXSTR - KHÓA SỐ\n",
    "* Abstraction:\n",
    "    - Tìm chuỗi số lớn nhất chia hết cho 3 bằng cách đổi chỗ vị trí hoặc xóa các ký tự trong chuỗi số đã cho trước.\n",
    "* Pattern recognization:\n",
    "    - Kỹ thuật áp dụng: Duyệt mảng, sắp xếp mảng\n",
    "    - Đặc điểm nhận dạng: Chuỗi số\n",
    "* Algorithm designed:\n",
    "    - Chuyển chuỗi số ban đầu thành mảng số nguyên.\n",
    "    - Nếu sum_list % 3 == 0: \n",
    "        - Sắp xếp mảng số nguyên theo thứ tự giảm dần.\n",
    "        - In ra mảng số nguyên đó\n",
    "    - Nếu sum_list % 3 <> 0:\n",
    "        - Tạo lst_0, lst_1, lst_2 lần lượt là các mảng chia 3 dư 0,1,2\n",
    "        - Sắp xếp các mảng giảm dần.\n",
    "        - Nếu sum_list %3 ==1:\n",
    "            - Nếu len(lst_1) >0: Xóa phần tử nhỏ nhất của lst_1\n",
    "            - Nếu không xóa 2 phần tử nhỏ nhất của lst_2\n",
    "        - Nếu sum_list %3 ==2:\n",
    "            - Nếu len(lst_2) >0: Xóa phần tử nhỏ nhất của lst_2\n",
    "            - Nếu không xóa 2 phần tử nhỏ nhất của lst_1\n",
    "        - In ra mảng nối lst_0, lst_1, lst_2 sắp xếp giảm dần.\n",
    "* Đánh giá độ phức tạp thuật toán: O(len(n).log(len(n))"
   ]
  },
  {
   "cell_type": "code",
   "execution_count": null,
   "metadata": {},
   "outputs": [],
   "source": [
    "n = list(input().strip())\n",
    "\n",
    "def Convert_lst(n):\n",
    "    result_int = []\n",
    "    for i in n:\n",
    "        result_int.append(ord(i) - ord('0'))\n",
    "    return result_int\n",
    "\n",
    "n = Convert_lst(n)\n",
    "sum_lst = sum(n)\n",
    "\n",
    "if sum_lst % 3 == 0:\n",
    "    n.sort(reverse=True)\n",
    "    print(*n, sep=\"\")\n",
    "else:\n",
    "    lst_0 = []\n",
    "    lst_1 = []\n",
    "    lst_2 = []\n",
    "    for i in n:\n",
    "        if i % 3 == 0:\n",
    "            lst_0.append(i)\n",
    "        elif i % 3 == 1:\n",
    "            lst_1.append(i)\n",
    "        else:\n",
    "            lst_2.append(i)\n",
    "    lst_1.sort(reverse=True)\n",
    "    lst_2.sort(reverse=True)\n",
    "    if sum_lst % 3 == 1:\n",
    "        if len(lst_1) > 0:\n",
    "            lst_1 = lst_1[:-1]\n",
    "        else:\n",
    "            lst_2 = lst_2[:-2] \n",
    "    else:\n",
    "        if len(lst_2) > 0:\n",
    "            lst_2 = lst_2[:-1]\n",
    "        else:\n",
    "            lst_1 = lst_1[:-2]\n",
    "    result = lst_0 + lst_1 + lst_2\n",
    "    result.sort(reverse=True)\n",
    "    print(*result, sep=\"\")"
   ]
  }
 ],
 "metadata": {
  "kernelspec": {
   "display_name": "Python 3",
   "language": "python",
   "name": "python3"
  },
  "language_info": {
   "codemirror_mode": {
    "name": "ipython",
    "version": 3
   },
   "file_extension": ".py",
   "mimetype": "text/x-python",
   "name": "python",
   "nbconvert_exporter": "python",
   "pygments_lexer": "ipython3",
   "version": "3.8.5"
  }
 },
 "nbformat": 4,
 "nbformat_minor": 4
}
