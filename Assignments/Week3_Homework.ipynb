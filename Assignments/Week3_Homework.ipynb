{
  "nbformat": 4,
  "nbformat_minor": 0,
  "metadata": {
    "colab": {
      "name": "Phân tích thiết kế thuật toán.ipynb",
      "provenance": [],
      "collapsed_sections": []
    },
    "kernelspec": {
      "name": "python3",
      "display_name": "Python 3"
    },
    "language_info": {
      "name": "python"
    }
  },
  "cells": [
    {
      "cell_type": "markdown",
      "metadata": {
        "id": "6IZOTa5BHWKE"
      },
      "source": [
        "# ĐỔI MỚI - VQ30 RENEWED\n",
        "1. Abstraction\n",
        "  - Nhập a, k, b, m, n và in ra x sao cho ((a + b)*x - (x//k)*a - (x//m)*b) < n và gần với n nhất\n",
        "2. Pattern Recognition: tên dạng bài toán/kỹ thuật được áp dụng, các đặc điểm nhận dạng\n",
        " - Nhận thấy số liệu nhỏ nhất đề bài cho là 10^9 nghĩa là phương án vét cạn bị loại bỏ \n",
        " - Nhận thấy mỗi ngày chặt được a + b cây thì để chặt hết n cầy cần tối thiểu n/(a+b) ngày. Dựa vào đó khởi tạo x (số ngày làm) và cập nhật x sao cho tối ưu gần với kết quả chính xác nhất.\n",
        " => Giải thuật tham lam (Greedy algorithm).\n",
        "3. Algorithm designed: thuật toán để giải quyết bài toán (trình bày bằng mã giả/ lưu đồ)\n",
        "<a href=\"https://ibb.co/vqfJTj2\"><img src=\"https://i.ibb.co/qjhRcrb/Untitled-Diagram.png\" alt=\"Untitled-Diagram\" border=\"0\"></a>\n",
        "4. Đánh giá độ phức tạp thuật toán: O(log2(n/(a+b))\n"
      ]
    },
    {
      "cell_type": "code",
      "metadata": {
        "colab": {
          "base_uri": "https://localhost:8080/"
        },
        "id": "qqc1pAxLIVu3",
        "outputId": "b1874532-984b-4fca-ef72-22d4d3da37f2"
      },
      "source": [
        "a,k,b,m, n = map(int,input().strip().split())\n",
        "x = n//(a+b)\n",
        "while (((a + b)*x - (x//k)*a - (x//m)*b) < n ):\n",
        "    z = (n - ((a + b)*x - (x//k)*a - (x//m)*b))//(a+b)\n",
        "    if z!=0:\n",
        "        x +=z\n",
        "    else:\n",
        "        x +=1\n",
        "print(x)"
      ],
      "execution_count": null,
      "outputs": [
        {
          "output_type": "stream",
          "text": [
            "2 4 3 3 25\n",
            "7\n"
          ],
          "name": "stdout"
        }
      ]
    },
    {
      "cell_type": "markdown",
      "metadata": {
        "id": "kfweon_qIl1E"
      },
      "source": [
        "# SỐ NGUYÊN MỚI - VS02_NewNum\n",
        "1. Abstraction:\n",
        "  -\tTìm m sao cho m là số nguyên lớn nhất chia hết cho 3 và khác n đúng một chữ số \n",
        "2. Pattern Recognition: tên dạng bài toán/kỹ thuật được áp dụng, các đặc điểm nhận dạng\n",
        "  -\tKỹ thuật áp dụng: Vét cạn\n",
        "  -\tĐặc điểm nhận dạng: tìm từng chữ số trong n thỏa để thay đổi chữ số đó cho phù hợp yêu cầu đề bài\n",
        "3. Algorithm designed: thuật toán để giải quyết bài toán (trình bày bằng mã giả/ lưu đồ)\n",
        "- Chuyển dãy số n sang mảng (list) arr chứa từng số của n\n",
        "  -\tGán s= tổng của mảng\n",
        "  -\tDuyệt mảng arr:\n",
        "    - Với phần tử thứ i\n",
        "      - Cho j giảm từ 9 tới a[i] +1\n",
        "      -\tVới từng giá trị j ta xét điều kiện (s- a[i] +j) %3 ==0\n",
        "        - Nếu thỏa, gán a[i]=j\n",
        "                + Ngưng duyệt mảng\n",
        "                + In ra kết quả\n",
        "                + Kết thúc chương trình\n",
        "        - Nếu không thỏa, tìm tiếp\n",
        "  -\tDuyệt ngược mảng arr\n",
        "    -\tVới phần tử thứ i\n",
        "        - Cho j giảm từ a[i]-1 tới 0\n",
        "              +\tVới từng giá trị j ta xét điều kiện (s- a[i] +j) %3 ==0\n",
        "                 + Nếu thỏa, gán a[i]=j\n",
        "                    +\tNgưng duyệt mảng\n",
        "\n",
        "4. Đánh giá độ phức tạp: O(len(n))\n"
      ]
    },
    {
      "cell_type": "code",
      "metadata": {
        "colab": {
          "base_uri": "https://localhost:8080/"
        },
        "id": "D0IMPSCbIm3q",
        "outputId": "605bba4e-19d9-4d6b-9829-b5314b7ff960"
      },
      "source": [
        "def solved(a):\n",
        "    s = sum(a)\n",
        "    for i in range(0, len(a), 1):\n",
        "        for j in range(9, a[i], -1):\n",
        "            if (s - a[i] + j) % 3 == 0:\n",
        "                a[i] = j\n",
        "                print(\"\".join([str(x) for x in a]))\n",
        "                return\n",
        "    for i in range(len(a)-1, -1, -1):\n",
        "        for j in range(a[i]-1, -1, -1):\n",
        "            if (s-a[i] + j) % 3 == 0:\n",
        "                a[i] = j\n",
        "                print(\"\".join([str(x) for x in a]))\n",
        "                return\n",
        "\n",
        "\n",
        "n = str(input())\n",
        "a = map(int, n)\n",
        "a = list(a)\n",
        "solved(a)"
      ],
      "execution_count": null,
      "outputs": [
        {
          "output_type": "stream",
          "text": [
            "123\n",
            "723\n"
          ],
          "name": "stdout"
        }
      ]
    }
  ]
}